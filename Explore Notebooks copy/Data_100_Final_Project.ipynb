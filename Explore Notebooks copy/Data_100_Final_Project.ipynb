{
 "cells": [
  {
   "cell_type": "markdown",
   "metadata": {
    "colab_type": "text",
    "id": "n01jFC096JGL"
   },
   "source": [
    "# Data 100 - [Final Project ](http://www.ds100.org/sp20/resources/assets/final_proj/final_proj_spec.pdf)\n",
    "## Spring 2020\n",
    "\n",
    "### Saketh Kollu, Anita Shen, Nicholas Wang\n",
    "\n",
    "Dataset: [Contraceptive](https://archive.ics.uci.edu/ml/datasets/Contraceptive+Method+Choice)\n",
    "\n",
    "[Rubric](https://d1b10bmlvqabco.cloudfront.net/attach/k4zyqkjkyt33a2/j4f6z772zscwl/k9w9no4cuz0p/New_Undergrad_DS_100_Final_Project_Rubric.pdf)\n",
    "\n"
   ]
  },
  {
   "cell_type": "markdown",
   "metadata": {
    "colab_type": "text",
    "id": "JPlskuWO9tSM"
   },
   "source": [
    "# Guiding Questions\n",
    "\n",
    "1. Which column variable affects the Contraceptive method used the most?\n",
    "2. How is the Contraceptive method used related to the number of children?\n",
    "3. Can we build a multinomial logistic regression to predict which type of contraceptive method used by an individual given certain variables?"
   ]
  },
  {
   "cell_type": "markdown",
   "metadata": {
    "colab_type": "text",
    "id": "qCVz79xS9z3v"
   },
   "source": [
    "Alright here we put our questions maybe hypotheseses etc"
   ]
  },
  {
   "cell_type": "code",
   "execution_count": 26,
   "metadata": {
    "colab": {
     "base_uri": "https://localhost:8080/",
     "height": 71
    },
    "colab_type": "code",
    "id": "3ToUI7sN7_OG",
    "outputId": "64a5b8d4-81df-42fb-d09f-4c35e8435869"
   },
   "outputs": [],
   "source": [
    "# Library imports\n",
    "\n",
    "import pandas as pd\n",
    "import numpy as np\n",
    "import seaborn as sns\n",
    "\n",
    "%matplotlib inline\n",
    "\n",
    "import matplotlib.pyplot as plt"
   ]
  },
  {
   "cell_type": "code",
   "execution_count": 27,
   "metadata": {
    "colab": {
     "base_uri": "https://localhost:8080/",
     "height": 204
    },
    "colab_type": "code",
    "id": "AWMYm2NV8c2M",
    "outputId": "fb0b5e61-8062-4934-aef2-8b742f730c7d"
   },
   "outputs": [
    {
     "data": {
      "text/html": [
       "<div>\n",
       "<style scoped>\n",
       "    .dataframe tbody tr th:only-of-type {\n",
       "        vertical-align: middle;\n",
       "    }\n",
       "\n",
       "    .dataframe tbody tr th {\n",
       "        vertical-align: top;\n",
       "    }\n",
       "\n",
       "    .dataframe thead th {\n",
       "        text-align: right;\n",
       "    }\n",
       "</style>\n",
       "<table border=\"1\" class=\"dataframe\">\n",
       "  <thead>\n",
       "    <tr style=\"text-align: right;\">\n",
       "      <th></th>\n",
       "      <th>wife_age</th>\n",
       "      <th>wife_education</th>\n",
       "      <th>husband_education</th>\n",
       "      <th>num_child</th>\n",
       "      <th>wife_religion</th>\n",
       "      <th>wife_work</th>\n",
       "      <th>husband_occupation</th>\n",
       "      <th>standard_living</th>\n",
       "      <th>media_exposure</th>\n",
       "      <th>contraceptive</th>\n",
       "    </tr>\n",
       "  </thead>\n",
       "  <tbody>\n",
       "    <tr>\n",
       "      <th>933</th>\n",
       "      <td>28</td>\n",
       "      <td>4</td>\n",
       "      <td>4</td>\n",
       "      <td>2</td>\n",
       "      <td>0</td>\n",
       "      <td>1</td>\n",
       "      <td>2</td>\n",
       "      <td>4</td>\n",
       "      <td>0</td>\n",
       "      <td>3</td>\n",
       "    </tr>\n",
       "    <tr>\n",
       "      <th>960</th>\n",
       "      <td>40</td>\n",
       "      <td>2</td>\n",
       "      <td>4</td>\n",
       "      <td>3</td>\n",
       "      <td>0</td>\n",
       "      <td>1</td>\n",
       "      <td>3</td>\n",
       "      <td>4</td>\n",
       "      <td>0</td>\n",
       "      <td>3</td>\n",
       "    </tr>\n",
       "    <tr>\n",
       "      <th>1122</th>\n",
       "      <td>30</td>\n",
       "      <td>3</td>\n",
       "      <td>4</td>\n",
       "      <td>4</td>\n",
       "      <td>0</td>\n",
       "      <td>1</td>\n",
       "      <td>2</td>\n",
       "      <td>3</td>\n",
       "      <td>0</td>\n",
       "      <td>1</td>\n",
       "    </tr>\n",
       "    <tr>\n",
       "      <th>391</th>\n",
       "      <td>33</td>\n",
       "      <td>4</td>\n",
       "      <td>4</td>\n",
       "      <td>5</td>\n",
       "      <td>1</td>\n",
       "      <td>1</td>\n",
       "      <td>3</td>\n",
       "      <td>4</td>\n",
       "      <td>0</td>\n",
       "      <td>1</td>\n",
       "    </tr>\n",
       "    <tr>\n",
       "      <th>1300</th>\n",
       "      <td>48</td>\n",
       "      <td>4</td>\n",
       "      <td>4</td>\n",
       "      <td>3</td>\n",
       "      <td>0</td>\n",
       "      <td>1</td>\n",
       "      <td>1</td>\n",
       "      <td>4</td>\n",
       "      <td>0</td>\n",
       "      <td>2</td>\n",
       "    </tr>\n",
       "  </tbody>\n",
       "</table>\n",
       "</div>"
      ],
      "text/plain": [
       "      wife_age  wife_education  husband_education  num_child  wife_religion  \\\n",
       "933         28               4                  4          2              0   \n",
       "960         40               2                  4          3              0   \n",
       "1122        30               3                  4          4              0   \n",
       "391         33               4                  4          5              1   \n",
       "1300        48               4                  4          3              0   \n",
       "\n",
       "      wife_work  husband_occupation  standard_living  media_exposure  \\\n",
       "933           1                   2                4               0   \n",
       "960           1                   3                4               0   \n",
       "1122          1                   2                3               0   \n",
       "391           1                   3                4               0   \n",
       "1300          1                   1                4               0   \n",
       "\n",
       "      contraceptive  \n",
       "933               3  \n",
       "960               3  \n",
       "1122              1  \n",
       "391               1  \n",
       "1300              2  "
      ]
     },
     "execution_count": 27,
     "metadata": {},
     "output_type": "execute_result"
    }
   ],
   "source": [
    "# Data imports\n",
    "\n",
    "data = pd.read_csv(\"./contraceptive_for_students.csv\")\n",
    "data.sample(5)\n"
   ]
  },
  {
   "cell_type": "markdown",
   "metadata": {},
   "source": [
    "Attribute Information:\n",
    "\n",
    "1. Wife's age (numerical)\n",
    "2. Wife's education (categorical) 1=low, 2, 3, 4=high\n",
    "3. Husband's education (categorical) 1=low, 2, 3, 4=high\n",
    "4. Number of children ever born (numerical)\n",
    "5. Wife's religion (binary) 0=Non-Islam, 1=Islam\n",
    "6. Wife's now working? (binary) 0=Yes, 1=No\n",
    "7. Husband's occupation (categorical) 1, 2, 3, 4\n",
    "8. Standard-of-living index (categorical) 1=low, 2, 3, 4=high\n",
    "9. Media exposure (binary) 0=Good, 1=Not good\n",
    "10. Contraceptive method used (class attribute) 1=No-use, 2=Long-term, 3=Short-term\n"
   ]
  },
  {
   "cell_type": "code",
   "execution_count": 28,
   "metadata": {
    "colab": {
     "base_uri": "https://localhost:8080/",
     "height": 297
    },
    "colab_type": "code",
    "id": "QhXOuFqrNlMv",
    "outputId": "596eedb3-8d73-4eff-e2a9-b8cee06879b2"
   },
   "outputs": [
    {
     "data": {
      "text/html": [
       "<div>\n",
       "<style scoped>\n",
       "    .dataframe tbody tr th:only-of-type {\n",
       "        vertical-align: middle;\n",
       "    }\n",
       "\n",
       "    .dataframe tbody tr th {\n",
       "        vertical-align: top;\n",
       "    }\n",
       "\n",
       "    .dataframe thead th {\n",
       "        text-align: right;\n",
       "    }\n",
       "</style>\n",
       "<table border=\"1\" class=\"dataframe\">\n",
       "  <thead>\n",
       "    <tr style=\"text-align: right;\">\n",
       "      <th></th>\n",
       "      <th>wife_age</th>\n",
       "      <th>wife_education</th>\n",
       "      <th>husband_education</th>\n",
       "      <th>num_child</th>\n",
       "      <th>wife_religion</th>\n",
       "      <th>wife_work</th>\n",
       "      <th>husband_occupation</th>\n",
       "      <th>standard_living</th>\n",
       "      <th>media_exposure</th>\n",
       "      <th>contraceptive</th>\n",
       "    </tr>\n",
       "  </thead>\n",
       "  <tbody>\n",
       "    <tr>\n",
       "      <th>count</th>\n",
       "      <td>1473.000000</td>\n",
       "      <td>1473.000000</td>\n",
       "      <td>1473.000000</td>\n",
       "      <td>1473.000000</td>\n",
       "      <td>1473.000000</td>\n",
       "      <td>1473.000000</td>\n",
       "      <td>1473.000000</td>\n",
       "      <td>1473.000000</td>\n",
       "      <td>1473.000000</td>\n",
       "      <td>1473.000000</td>\n",
       "    </tr>\n",
       "    <tr>\n",
       "      <th>mean</th>\n",
       "      <td>32.538357</td>\n",
       "      <td>2.958588</td>\n",
       "      <td>3.429735</td>\n",
       "      <td>3.261371</td>\n",
       "      <td>0.850645</td>\n",
       "      <td>0.749491</td>\n",
       "      <td>2.137814</td>\n",
       "      <td>3.133741</td>\n",
       "      <td>0.073999</td>\n",
       "      <td>1.919891</td>\n",
       "    </tr>\n",
       "    <tr>\n",
       "      <th>std</th>\n",
       "      <td>8.227245</td>\n",
       "      <td>1.014994</td>\n",
       "      <td>0.816349</td>\n",
       "      <td>2.358549</td>\n",
       "      <td>0.356559</td>\n",
       "      <td>0.433453</td>\n",
       "      <td>0.864857</td>\n",
       "      <td>0.976161</td>\n",
       "      <td>0.261858</td>\n",
       "      <td>0.876376</td>\n",
       "    </tr>\n",
       "    <tr>\n",
       "      <th>min</th>\n",
       "      <td>16.000000</td>\n",
       "      <td>1.000000</td>\n",
       "      <td>1.000000</td>\n",
       "      <td>0.000000</td>\n",
       "      <td>0.000000</td>\n",
       "      <td>0.000000</td>\n",
       "      <td>1.000000</td>\n",
       "      <td>1.000000</td>\n",
       "      <td>0.000000</td>\n",
       "      <td>1.000000</td>\n",
       "    </tr>\n",
       "    <tr>\n",
       "      <th>25%</th>\n",
       "      <td>26.000000</td>\n",
       "      <td>2.000000</td>\n",
       "      <td>3.000000</td>\n",
       "      <td>1.000000</td>\n",
       "      <td>1.000000</td>\n",
       "      <td>0.000000</td>\n",
       "      <td>1.000000</td>\n",
       "      <td>3.000000</td>\n",
       "      <td>0.000000</td>\n",
       "      <td>1.000000</td>\n",
       "    </tr>\n",
       "    <tr>\n",
       "      <th>50%</th>\n",
       "      <td>32.000000</td>\n",
       "      <td>3.000000</td>\n",
       "      <td>4.000000</td>\n",
       "      <td>3.000000</td>\n",
       "      <td>1.000000</td>\n",
       "      <td>1.000000</td>\n",
       "      <td>2.000000</td>\n",
       "      <td>3.000000</td>\n",
       "      <td>0.000000</td>\n",
       "      <td>2.000000</td>\n",
       "    </tr>\n",
       "    <tr>\n",
       "      <th>75%</th>\n",
       "      <td>39.000000</td>\n",
       "      <td>4.000000</td>\n",
       "      <td>4.000000</td>\n",
       "      <td>4.000000</td>\n",
       "      <td>1.000000</td>\n",
       "      <td>1.000000</td>\n",
       "      <td>3.000000</td>\n",
       "      <td>4.000000</td>\n",
       "      <td>0.000000</td>\n",
       "      <td>3.000000</td>\n",
       "    </tr>\n",
       "    <tr>\n",
       "      <th>max</th>\n",
       "      <td>49.000000</td>\n",
       "      <td>4.000000</td>\n",
       "      <td>4.000000</td>\n",
       "      <td>16.000000</td>\n",
       "      <td>1.000000</td>\n",
       "      <td>1.000000</td>\n",
       "      <td>4.000000</td>\n",
       "      <td>4.000000</td>\n",
       "      <td>1.000000</td>\n",
       "      <td>3.000000</td>\n",
       "    </tr>\n",
       "  </tbody>\n",
       "</table>\n",
       "</div>"
      ],
      "text/plain": [
       "          wife_age  wife_education  husband_education    num_child  \\\n",
       "count  1473.000000     1473.000000        1473.000000  1473.000000   \n",
       "mean     32.538357        2.958588           3.429735     3.261371   \n",
       "std       8.227245        1.014994           0.816349     2.358549   \n",
       "min      16.000000        1.000000           1.000000     0.000000   \n",
       "25%      26.000000        2.000000           3.000000     1.000000   \n",
       "50%      32.000000        3.000000           4.000000     3.000000   \n",
       "75%      39.000000        4.000000           4.000000     4.000000   \n",
       "max      49.000000        4.000000           4.000000    16.000000   \n",
       "\n",
       "       wife_religion    wife_work  husband_occupation  standard_living  \\\n",
       "count    1473.000000  1473.000000         1473.000000      1473.000000   \n",
       "mean        0.850645     0.749491            2.137814         3.133741   \n",
       "std         0.356559     0.433453            0.864857         0.976161   \n",
       "min         0.000000     0.000000            1.000000         1.000000   \n",
       "25%         1.000000     0.000000            1.000000         3.000000   \n",
       "50%         1.000000     1.000000            2.000000         3.000000   \n",
       "75%         1.000000     1.000000            3.000000         4.000000   \n",
       "max         1.000000     1.000000            4.000000         4.000000   \n",
       "\n",
       "       media_exposure  contraceptive  \n",
       "count     1473.000000    1473.000000  \n",
       "mean         0.073999       1.919891  \n",
       "std          0.261858       0.876376  \n",
       "min          0.000000       1.000000  \n",
       "25%          0.000000       1.000000  \n",
       "50%          0.000000       2.000000  \n",
       "75%          0.000000       3.000000  \n",
       "max          1.000000       3.000000  "
      ]
     },
     "execution_count": 28,
     "metadata": {},
     "output_type": "execute_result"
    }
   ],
   "source": [
    "data.describe()"
   ]
  },
  {
   "cell_type": "code",
   "execution_count": 29,
   "metadata": {
    "colab": {
     "base_uri": "https://localhost:8080/",
     "height": 255
    },
    "colab_type": "code",
    "id": "7CKfp8pRN577",
    "outputId": "40898189-d794-4193-b9e7-a5ba36e0ad6f"
   },
   "outputs": [
    {
     "data": {
      "text/plain": [
       "(1473, 10)"
      ]
     },
     "execution_count": 29,
     "metadata": {},
     "output_type": "execute_result"
    }
   ],
   "source": [
    "data.shape"
   ]
  },
  {
   "cell_type": "markdown",
   "metadata": {},
   "source": [
    "## How is the Contraceptive method used related to the number of children?\n",
    "initial predictions - no use of contraceptives will more likely to have more kids "
   ]
  },
  {
   "cell_type": "code",
   "execution_count": 30,
   "metadata": {},
   "outputs": [
    {
     "data": {
      "text/html": [
       "<div>\n",
       "<style scoped>\n",
       "    .dataframe tbody tr th:only-of-type {\n",
       "        vertical-align: middle;\n",
       "    }\n",
       "\n",
       "    .dataframe tbody tr th {\n",
       "        vertical-align: top;\n",
       "    }\n",
       "\n",
       "    .dataframe thead th {\n",
       "        text-align: right;\n",
       "    }\n",
       "</style>\n",
       "<table border=\"1\" class=\"dataframe\">\n",
       "  <thead>\n",
       "    <tr style=\"text-align: right;\">\n",
       "      <th></th>\n",
       "      <th>wife_age</th>\n",
       "      <th>wife_education</th>\n",
       "      <th>husband_education</th>\n",
       "      <th>num_child</th>\n",
       "      <th>wife_religion</th>\n",
       "      <th>wife_work</th>\n",
       "      <th>husband_occupation</th>\n",
       "      <th>standard_living</th>\n",
       "      <th>media_exposure</th>\n",
       "    </tr>\n",
       "    <tr>\n",
       "      <th>contraceptive</th>\n",
       "      <th></th>\n",
       "      <th></th>\n",
       "      <th></th>\n",
       "      <th></th>\n",
       "      <th></th>\n",
       "      <th></th>\n",
       "      <th></th>\n",
       "      <th></th>\n",
       "      <th></th>\n",
       "    </tr>\n",
       "  </thead>\n",
       "  <tbody>\n",
       "    <tr>\n",
       "      <th>1</th>\n",
       "      <td>629</td>\n",
       "      <td>629</td>\n",
       "      <td>629</td>\n",
       "      <td>629</td>\n",
       "      <td>629</td>\n",
       "      <td>629</td>\n",
       "      <td>629</td>\n",
       "      <td>629</td>\n",
       "      <td>629</td>\n",
       "    </tr>\n",
       "    <tr>\n",
       "      <th>2</th>\n",
       "      <td>333</td>\n",
       "      <td>333</td>\n",
       "      <td>333</td>\n",
       "      <td>333</td>\n",
       "      <td>333</td>\n",
       "      <td>333</td>\n",
       "      <td>333</td>\n",
       "      <td>333</td>\n",
       "      <td>333</td>\n",
       "    </tr>\n",
       "    <tr>\n",
       "      <th>3</th>\n",
       "      <td>511</td>\n",
       "      <td>511</td>\n",
       "      <td>511</td>\n",
       "      <td>511</td>\n",
       "      <td>511</td>\n",
       "      <td>511</td>\n",
       "      <td>511</td>\n",
       "      <td>511</td>\n",
       "      <td>511</td>\n",
       "    </tr>\n",
       "  </tbody>\n",
       "</table>\n",
       "</div>"
      ],
      "text/plain": [
       "               wife_age  wife_education  husband_education  num_child  \\\n",
       "contraceptive                                                           \n",
       "1                   629             629                629        629   \n",
       "2                   333             333                333        333   \n",
       "3                   511             511                511        511   \n",
       "\n",
       "               wife_religion  wife_work  husband_occupation  standard_living  \\\n",
       "contraceptive                                                                  \n",
       "1                        629        629                 629              629   \n",
       "2                        333        333                 333              333   \n",
       "3                        511        511                 511              511   \n",
       "\n",
       "               media_exposure  \n",
       "contraceptive                  \n",
       "1                         629  \n",
       "2                         333  \n",
       "3                         511  "
      ]
     },
     "execution_count": 30,
     "metadata": {},
     "output_type": "execute_result"
    }
   ],
   "source": [
    "data.groupby('contraceptive').count()"
   ]
  },
  {
   "cell_type": "code",
   "execution_count": 31,
   "metadata": {},
   "outputs": [
    {
     "name": "stdout",
     "output_type": "stream",
     "text": [
      "Range (0, 16)\n",
      "Mean number of children 3.2613713509843856\n",
      "Median number of children 3.0\n"
     ]
    },
    {
     "data": {
      "image/png": "[encoded data removed]",
      "text/plain": [
       "<Figure size 432x288 with 1 Axes>"
      ]
     },
     "metadata": {
      "needs_background": "light"
     },
     "output_type": "display_data"
    }
   ],
   "source": [
    "#first looking at the distribution of all number of children\n",
    "num_child = data['num_child']\n",
    "\n",
    "plt.xlabel(\"Number of Children\")\n",
    "plt.ylabel(\"Count\")\n",
    "plt.title(\"Distribution of the number of children of all mothers\")\n",
    "num_child.hist()\n",
    "\n",
    "print(\"Range\", (min(num_child), max(num_child)))\n",
    "print(\"Mean number of children\",num_child.mean())\n",
    "print(\"Median number of children\", num_child.median())"
   ]
  },
  {
   "cell_type": "code",
   "execution_count": 32,
   "metadata": {},
   "outputs": [],
   "source": [
    "#separate by contraceptive types\n",
    "type1 = data.loc[data['contraceptive'] == 1]\n",
    "type2 = data.loc[data['contraceptive'] == 2]\n",
    "type3 = data.loc[data['contraceptive'] == 3]"
   ]
  },
  {
   "cell_type": "code",
   "execution_count": 33,
   "metadata": {},
   "outputs": [
    {
     "name": "stdout",
     "output_type": "stream",
     "text": [
      "Range (0, 12)\n",
      "Mean number of children 2.934817170111288\n",
      "Median number of children 2.0\n"
     ]
    },
    {
     "data": {
      "image/png": "[encoded data removed]",
      "text/plain": [
       "<Figure size 432x288 with 1 Axes>"
      ]
     },
     "metadata": {
      "needs_background": "light"
     },
     "output_type": "display_data"
    }
   ],
   "source": [
    "type1Children = type1['num_child']\n",
    "plt.xlabel(\"Number of Children\")\n",
    "plt.ylabel(\"Count\")\n",
    "plt.title(\"Distribution of the number of children of Mothers that Don't Use Contraceptives (type1)\")\n",
    "type1Children.hist()\n",
    "\n",
    "print(\"Range\", (min(type1Children), max(type1Children)))\n",
    "print(\"Mean number of children\",type1Children.mean())\n",
    "print(\"Median number of children\", type1Children.median())"
   ]
  },
  {
   "cell_type": "code",
   "execution_count": 34,
   "metadata": {},
   "outputs": [
    {
     "name": "stdout",
     "output_type": "stream",
     "text": [
      "Range (1, 13)\n",
      "Mean number of children 3.7387387387387387\n",
      "Median number of children 3.0\n"
     ]
    },
    {
     "data": {
      "image/png": "[encoded data removed]",
      "text/plain": [
       "<Figure size 432x288 with 1 Axes>"
      ]
     },
     "metadata": {
      "needs_background": "light"
     },
     "output_type": "display_data"
    }
   ],
   "source": [
    "type2Children = type2['num_child']\n",
    "plt.xlabel(\"Number of Children\")\n",
    "plt.ylabel(\"Count\")\n",
    "plt.title(\"Distribution of the number of children of Mothers that use Long-term Contraceptives (type2)\")\n",
    "type2Children.hist()\n",
    "\n",
    "print(\"Range\", (min(type2Children), max(type2Children)))\n",
    "print(\"Mean number of children\",type2Children.mean())\n",
    "print(\"Median number of children\", type2Children.median())"
   ]
  },
  {
   "cell_type": "code",
   "execution_count": 35,
   "metadata": {},
   "outputs": [
    {
     "name": "stdout",
     "output_type": "stream",
     "text": [
      "Range (0, 16)\n",
      "Mean number of children 3.352250489236791\n",
      "Median number of children 3.0\n"
     ]
    },
    {
     "data": {
      "image/png": "[encoded data removed]",
      "text/plain": [
       "<Figure size 432x288 with 1 Axes>"
      ]
     },
     "metadata": {
      "needs_background": "light"
     },
     "output_type": "display_data"
    }
   ],
   "source": [
    "type3Children = type3['num_child']\n",
    "plt.xlabel(\"Number of Children\")\n",
    "plt.ylabel(\"Count\")\n",
    "plt.title(\"Distribution of the number of children of Mothers that use Short-term Contraceptives (type3)\")\n",
    "type3Children.hist()\n",
    "\n",
    "print(\"Range\", (min(type3Children), max(type3Children)))\n",
    "print(\"Mean number of children\",type3Children.mean())\n",
    "print(\"Median number of children\", type3Children.median())"
   ]
  },
  {
   "cell_type": "code",
   "execution_count": 36,
   "metadata": {},
   "outputs": [
    {
     "data": {
      "image/png": "[encoded data removed]",
      "text/plain": [
       "<Figure size 432x288 with 2 Axes>"
      ]
     },
     "metadata": {
      "needs_background": "light"
     },
     "output_type": "display_data"
    }
   ],
   "source": [
    "child_bins = range(0, 18)\n",
    "fig, axes = plt.subplots(nrows=1, ncols=2)\n",
    "ax0, ax2 = axes.flatten()\n",
    "\n",
    "ax0.hist(type1Children, child_bins, density=True, histtype='bar', label = 'No Use')\n",
    "ax0.hist(type2Children, child_bins, density=True, histtype='bar', label = 'Long-term')\n",
    "ax0.hist(type3Children, child_bins, density=True, histtype='bar', label = 'Short-term')\n",
    "ax0.legend(prop={'size': 10})\n",
    "ax0.set_title('Distribution with Filled Bars')\n",
    "\n",
    "ax2.hist(type1Children, child_bins, histtype='step', stacked=True, fill=False, label = 'No Use')\n",
    "ax2.hist(type2Children, child_bins, histtype='step', stacked=True, fill=False, label = 'Long-term')\n",
    "ax2.hist(type3Children, child_bins, histtype='step', stacked=True, fill=False, label = 'Short-term')\n",
    "ax2.legend(prop={'size': 10})\n",
    "ax2.set_title('Distribution in Stack Steps')\n",
    "\n",
    "fig.tight_layout()\n",
    "plt.show()"
   ]
  },
  {
   "cell_type": "markdown",
   "metadata": {},
   "source": [
    "Surprisingly, the median number of children of mothers that don't use contraceptives is lower than those that use either short-term or long-term contraceptives. This may be due to the larger sample size of mothers that don't use contraceptives at 629 mothers versus mothers that use contraceptives(333 +511).\n",
    "All of the distributions are heavily right skewed though again, the range of the number of children is largest for mothers that use short-term contraceptives. (0-16)short-term vs (1,13)long-term, and (0,12) no-use. "
   ]
  },
  {
   "cell_type": "code",
   "execution_count": 37,
   "metadata": {},
   "outputs": [],
   "source": [
    "contraceptiveNoUse = data.loc[data['contraceptive'] == 1]\n",
    "contraceptiveUse = data.loc[data['contraceptive'] > 1]\n"
   ]
  },
  {
   "cell_type": "code",
   "execution_count": 38,
   "metadata": {},
   "outputs": [],
   "source": [
    "# plt.xlabel(\"Number of Children\")\n",
    "# plt.ylabel(\"Count\")\n",
    "# plt.title(\"Distribution of the number of children of Mothers that use Different types of Contraceptive\")\n",
    "# plt.hist(contraceptiveNoUse, bins = child_bins, alpha = 0.5, label = 'No Use')\n",
    "# # plt.hist(contraceptiveUse, bins = child_bins, alpha = 0.5, label = 'Contraceptives Used')\n",
    "# # plt.legend(prop={'size': 10})\n"
   ]
  },
  {
   "cell_type": "markdown",
   "metadata": {
    "colab_type": "text",
    "id": "h6-nWS7_7jw3"
   },
   "source": [
    "## Data Transformations"
   ]
  },
  {
   "cell_type": "markdown",
   "metadata": {},
   "source": [
    "## Can we build a multinomial logistic regression to predict which type of contraceptive method used by an individual given certain variables?"
   ]
  },
  {
   "cell_type": "markdown",
   "metadata": {},
   "source": [
    "### Select Features\n",
    "\n",
    "Since we have a mix of categorical and numerical features, we need to seperate them and one hot encode all the categorical features so that our logistic regression model can treat them properly."
   ]
  },
  {
   "cell_type": "code",
   "execution_count": 45,
   "metadata": {},
   "outputs": [],
   "source": [
    "features = [\"wife_age\", \"wife_education\", \"husband_education\", \"num_child\", \"wife_religion\", \"wife_work\", \"husband_occupation\", \"standard_living\", \"media_exposure\"]\n",
    "\n",
    "num_features = [\"wife_age\", \"num_child\"]\n",
    "cat_features = [\"wife_education\", \"husband_education\", \"wife_religion\", \"wife_work\", \"husband_occupation\", \"standard_living\", \"media_exposure\"]\n",
    "\n",
    "response = [\"contraceptive\"]"
   ]
  },
  {
   "cell_type": "markdown",
   "metadata": {},
   "source": [
    "### One Hot Encode Categorical Features\n",
    "\n",
    "Using the OneHotEncoder, all categorical features are one hot encoded and turned into a DataFrame"
   ]
  },
  {
   "cell_type": "code",
   "execution_count": 46,
   "metadata": {},
   "outputs": [],
   "source": [
    "from sklearn.preprocessing import OneHotEncoder\n",
    "\n",
    "oh_enc = OneHotEncoder()\n",
    "oh_enc.fit(data[cat_features])\n",
    "cat_Data = pd.DataFrame(oh_enc.transform(data[cat_features]).todense())"
   ]
  },
  {
   "cell_type": "markdown",
   "metadata": {},
   "source": [
    "### Merge Numerical and Categorical Features (OHE) \n",
    "\n",
    "Numerical and one hot encoded features are merged into a single dataframe that can be passed into the model."
   ]
  },
  {
   "cell_type": "code",
   "execution_count": 47,
   "metadata": {},
   "outputs": [
    {
     "data": {
      "text/html": [
       "<div>\n",
       "<style scoped>\n",
       "    .dataframe tbody tr th:only-of-type {\n",
       "        vertical-align: middle;\n",
       "    }\n",
       "\n",
       "    .dataframe tbody tr th {\n",
       "        vertical-align: top;\n",
       "    }\n",
       "\n",
       "    .dataframe thead th {\n",
       "        text-align: right;\n",
       "    }\n",
       "</style>\n",
       "<table border=\"1\" class=\"dataframe\">\n",
       "  <thead>\n",
       "    <tr style=\"text-align: right;\">\n",
       "      <th></th>\n",
       "      <th>wife_age</th>\n",
       "      <th>num_child</th>\n",
       "      <th>0</th>\n",
       "      <th>1</th>\n",
       "      <th>2</th>\n",
       "      <th>3</th>\n",
       "      <th>4</th>\n",
       "      <th>5</th>\n",
       "      <th>6</th>\n",
       "      <th>7</th>\n",
       "      <th>...</th>\n",
       "      <th>12</th>\n",
       "      <th>13</th>\n",
       "      <th>14</th>\n",
       "      <th>15</th>\n",
       "      <th>16</th>\n",
       "      <th>17</th>\n",
       "      <th>18</th>\n",
       "      <th>19</th>\n",
       "      <th>20</th>\n",
       "      <th>21</th>\n",
       "    </tr>\n",
       "  </thead>\n",
       "  <tbody>\n",
       "    <tr>\n",
       "      <th>0</th>\n",
       "      <td>24</td>\n",
       "      <td>3</td>\n",
       "      <td>0.0</td>\n",
       "      <td>1.0</td>\n",
       "      <td>0.0</td>\n",
       "      <td>0.0</td>\n",
       "      <td>0.0</td>\n",
       "      <td>0.0</td>\n",
       "      <td>1.0</td>\n",
       "      <td>0.0</td>\n",
       "      <td>...</td>\n",
       "      <td>0.0</td>\n",
       "      <td>1.0</td>\n",
       "      <td>0.0</td>\n",
       "      <td>0.0</td>\n",
       "      <td>0.0</td>\n",
       "      <td>0.0</td>\n",
       "      <td>1.0</td>\n",
       "      <td>0.0</td>\n",
       "      <td>1.0</td>\n",
       "      <td>0.0</td>\n",
       "    </tr>\n",
       "    <tr>\n",
       "      <th>1</th>\n",
       "      <td>45</td>\n",
       "      <td>10</td>\n",
       "      <td>1.0</td>\n",
       "      <td>0.0</td>\n",
       "      <td>0.0</td>\n",
       "      <td>0.0</td>\n",
       "      <td>0.0</td>\n",
       "      <td>0.0</td>\n",
       "      <td>1.0</td>\n",
       "      <td>0.0</td>\n",
       "      <td>...</td>\n",
       "      <td>0.0</td>\n",
       "      <td>0.0</td>\n",
       "      <td>1.0</td>\n",
       "      <td>0.0</td>\n",
       "      <td>0.0</td>\n",
       "      <td>0.0</td>\n",
       "      <td>0.0</td>\n",
       "      <td>1.0</td>\n",
       "      <td>1.0</td>\n",
       "      <td>0.0</td>\n",
       "    </tr>\n",
       "    <tr>\n",
       "      <th>2</th>\n",
       "      <td>43</td>\n",
       "      <td>7</td>\n",
       "      <td>0.0</td>\n",
       "      <td>1.0</td>\n",
       "      <td>0.0</td>\n",
       "      <td>0.0</td>\n",
       "      <td>0.0</td>\n",
       "      <td>0.0</td>\n",
       "      <td>1.0</td>\n",
       "      <td>0.0</td>\n",
       "      <td>...</td>\n",
       "      <td>0.0</td>\n",
       "      <td>0.0</td>\n",
       "      <td>1.0</td>\n",
       "      <td>0.0</td>\n",
       "      <td>0.0</td>\n",
       "      <td>0.0</td>\n",
       "      <td>0.0</td>\n",
       "      <td>1.0</td>\n",
       "      <td>1.0</td>\n",
       "      <td>0.0</td>\n",
       "    </tr>\n",
       "    <tr>\n",
       "      <th>3</th>\n",
       "      <td>42</td>\n",
       "      <td>9</td>\n",
       "      <td>0.0</td>\n",
       "      <td>0.0</td>\n",
       "      <td>1.0</td>\n",
       "      <td>0.0</td>\n",
       "      <td>0.0</td>\n",
       "      <td>1.0</td>\n",
       "      <td>0.0</td>\n",
       "      <td>0.0</td>\n",
       "      <td>...</td>\n",
       "      <td>0.0</td>\n",
       "      <td>0.0</td>\n",
       "      <td>1.0</td>\n",
       "      <td>0.0</td>\n",
       "      <td>0.0</td>\n",
       "      <td>0.0</td>\n",
       "      <td>1.0</td>\n",
       "      <td>0.0</td>\n",
       "      <td>1.0</td>\n",
       "      <td>0.0</td>\n",
       "    </tr>\n",
       "    <tr>\n",
       "      <th>4</th>\n",
       "      <td>36</td>\n",
       "      <td>8</td>\n",
       "      <td>0.0</td>\n",
       "      <td>0.0</td>\n",
       "      <td>1.0</td>\n",
       "      <td>0.0</td>\n",
       "      <td>0.0</td>\n",
       "      <td>0.0</td>\n",
       "      <td>1.0</td>\n",
       "      <td>0.0</td>\n",
       "      <td>...</td>\n",
       "      <td>0.0</td>\n",
       "      <td>0.0</td>\n",
       "      <td>1.0</td>\n",
       "      <td>0.0</td>\n",
       "      <td>0.0</td>\n",
       "      <td>1.0</td>\n",
       "      <td>0.0</td>\n",
       "      <td>0.0</td>\n",
       "      <td>1.0</td>\n",
       "      <td>0.0</td>\n",
       "    </tr>\n",
       "  </tbody>\n",
       "</table>\n",
       "<p>5 rows × 24 columns</p>\n",
       "</div>"
      ],
      "text/plain": [
       "   wife_age  num_child    0    1    2    3    4    5    6    7 ...    12   13  \\\n",
       "0        24          3  0.0  1.0  0.0  0.0  0.0  0.0  1.0  0.0 ...   0.0  1.0   \n",
       "1        45         10  1.0  0.0  0.0  0.0  0.0  0.0  1.0  0.0 ...   0.0  0.0   \n",
       "2        43          7  0.0  1.0  0.0  0.0  0.0  0.0  1.0  0.0 ...   0.0  0.0   \n",
       "3        42          9  0.0  0.0  1.0  0.0  0.0  1.0  0.0  0.0 ...   0.0  0.0   \n",
       "4        36          8  0.0  0.0  1.0  0.0  0.0  0.0  1.0  0.0 ...   0.0  0.0   \n",
       "\n",
       "    14   15   16   17   18   19   20   21  \n",
       "0  0.0  0.0  0.0  0.0  1.0  0.0  1.0  0.0  \n",
       "1  1.0  0.0  0.0  0.0  0.0  1.0  1.0  0.0  \n",
       "2  1.0  0.0  0.0  0.0  0.0  1.0  1.0  0.0  \n",
       "3  1.0  0.0  0.0  0.0  1.0  0.0  1.0  0.0  \n",
       "4  1.0  0.0  0.0  1.0  0.0  0.0  1.0  0.0  \n",
       "\n",
       "[5 rows x 24 columns]"
      ]
     },
     "execution_count": 47,
     "metadata": {},
     "output_type": "execute_result"
    }
   ],
   "source": [
    "merged = pd.concat([data[num_features], cat_Data], axis = 1)\n",
    "merged.head()"
   ]
  },
  {
   "cell_type": "markdown",
   "metadata": {},
   "source": [
    "### Train-Test Split\n",
    "\n",
    "Our data is split into training and test sets."
   ]
  },
  {
   "cell_type": "code",
   "execution_count": 48,
   "metadata": {},
   "outputs": [
    {
     "name": "stdout",
     "output_type": "stream",
     "text": [
      "Training Data Size:  1178\n",
      "Test Data Size:  295\n"
     ]
    }
   ],
   "source": [
    "from sklearn.model_selection import train_test_split\n",
    "\n",
    "X_train, X_test, y_train, y_test = train_test_split(merged, data[response], test_size = 0.20)\n",
    "print(\"Training Data Size: \", len(X_train))\n",
    "print(\"Test Data Size: \", len(X_test))"
   ]
  },
  {
   "cell_type": "markdown",
   "metadata": {},
   "source": [
    "## Modeling"
   ]
  },
  {
   "cell_type": "code",
   "execution_count": 49,
   "metadata": {},
   "outputs": [],
   "source": [
    "# Helper function to calculate the accuracy of our model.\n",
    "\n",
    "def accuracy(given, predicted):\n",
    "    correct = 0\n",
    "\n",
    "    for i in range(0, len(given)):\n",
    "        if given[\"contraceptive\"].iloc[i] == predicted[i]:\n",
    "            correct += 1\n",
    "            \n",
    "    return correct / len(given)"
   ]
  },
  {
   "cell_type": "markdown",
   "metadata": {},
   "source": [
    "### Logistic Regression Model\n"
   ]
  },
  {
   "cell_type": "markdown",
   "metadata": {},
   "source": [
    "#### Creating and Fitting\n"
   ]
  },
  {
   "cell_type": "code",
   "execution_count": 50,
   "metadata": {},
   "outputs": [],
   "source": [
    "from sklearn.linear_model import LogisticRegression"
   ]
  },
  {
   "cell_type": "code",
   "execution_count": 51,
   "metadata": {},
   "outputs": [],
   "source": [
    "model = LogisticRegression(multi_class = 'multinomial', solver = 'saga')"
   ]
  },
  {
   "cell_type": "code",
   "execution_count": 53,
   "metadata": {},
   "outputs": [
    {
     "name": "stderr",
     "output_type": "stream",
     "text": [
      "C:\\ProgramData\\Anaconda3\\lib\\site-packages\\sklearn\\utils\\validation.py:578: DataConversionWarning: A column-vector y was passed when a 1d array was expected. Please change the shape of y to (n_samples, ), for example using ravel().\n",
      "  y = column_or_1d(y, warn=True)\n",
      "C:\\ProgramData\\Anaconda3\\lib\\site-packages\\sklearn\\linear_model\\sag.py:326: ConvergenceWarning: The max_iter was reached which means the coef_ did not converge\n",
      "  \"the coef_ did not converge\", ConvergenceWarning)\n"
     ]
    },
    {
     "data": {
      "text/plain": [
       "LogisticRegression(C=1.0, class_weight=None, dual=False, fit_intercept=True,\n",
       "          intercept_scaling=1, max_iter=100, multi_class='multinomial',\n",
       "          n_jobs=1, penalty='l2', random_state=None, solver='saga',\n",
       "          tol=0.0001, verbose=0, warm_start=False)"
      ]
     },
     "execution_count": 53,
     "metadata": {},
     "output_type": "execute_result"
    }
   ],
   "source": [
    "model.fit(X_train, y_train)"
   ]
  },
  {
   "cell_type": "markdown",
   "metadata": {},
   "source": [
    "#### Model Validation"
   ]
  },
  {
   "cell_type": "code",
   "execution_count": 54,
   "metadata": {},
   "outputs": [
    {
     "name": "stdout",
     "output_type": "stream",
     "text": [
      "Training data prediction accuracy: 0.529711\n"
     ]
    }
   ],
   "source": [
    "y_fitted = model.predict(X_train)\n",
    "\n",
    "print(\"Training data prediction accuracy: %f\" % accuracy(y_train, y_fitted))"
   ]
  },
  {
   "cell_type": "code",
   "execution_count": 55,
   "metadata": {},
   "outputs": [],
   "source": [
    "from sklearn.model_selection import cross_val_score"
   ]
  },
  {
   "cell_type": "code",
   "execution_count": 56,
   "metadata": {},
   "outputs": [
    {
     "name": "stderr",
     "output_type": "stream",
     "text": [
      "C:\\ProgramData\\Anaconda3\\lib\\site-packages\\sklearn\\utils\\validation.py:578: DataConversionWarning: A column-vector y was passed when a 1d array was expected. Please change the shape of y to (n_samples, ), for example using ravel().\n",
      "  y = column_or_1d(y, warn=True)\n",
      "C:\\ProgramData\\Anaconda3\\lib\\site-packages\\sklearn\\linear_model\\sag.py:326: ConvergenceWarning: The max_iter was reached which means the coef_ did not converge\n",
      "  \"the coef_ did not converge\", ConvergenceWarning)\n",
      "C:\\ProgramData\\Anaconda3\\lib\\site-packages\\sklearn\\utils\\validation.py:578: DataConversionWarning: A column-vector y was passed when a 1d array was expected. Please change the shape of y to (n_samples, ), for example using ravel().\n",
      "  y = column_or_1d(y, warn=True)\n",
      "C:\\ProgramData\\Anaconda3\\lib\\site-packages\\sklearn\\linear_model\\sag.py:326: ConvergenceWarning: The max_iter was reached which means the coef_ did not converge\n",
      "  \"the coef_ did not converge\", ConvergenceWarning)\n",
      "C:\\ProgramData\\Anaconda3\\lib\\site-packages\\sklearn\\utils\\validation.py:578: DataConversionWarning: A column-vector y was passed when a 1d array was expected. Please change the shape of y to (n_samples, ), for example using ravel().\n",
      "  y = column_or_1d(y, warn=True)\n",
      "C:\\ProgramData\\Anaconda3\\lib\\site-packages\\sklearn\\linear_model\\sag.py:326: ConvergenceWarning: The max_iter was reached which means the coef_ did not converge\n",
      "  \"the coef_ did not converge\", ConvergenceWarning)\n",
      "C:\\ProgramData\\Anaconda3\\lib\\site-packages\\sklearn\\utils\\validation.py:578: DataConversionWarning: A column-vector y was passed when a 1d array was expected. Please change the shape of y to (n_samples, ), for example using ravel().\n",
      "  y = column_or_1d(y, warn=True)\n",
      "C:\\ProgramData\\Anaconda3\\lib\\site-packages\\sklearn\\linear_model\\sag.py:326: ConvergenceWarning: The max_iter was reached which means the coef_ did not converge\n",
      "  \"the coef_ did not converge\", ConvergenceWarning)\n",
      "C:\\ProgramData\\Anaconda3\\lib\\site-packages\\sklearn\\utils\\validation.py:578: DataConversionWarning: A column-vector y was passed when a 1d array was expected. Please change the shape of y to (n_samples, ), for example using ravel().\n",
      "  y = column_or_1d(y, warn=True)\n",
      "C:\\ProgramData\\Anaconda3\\lib\\site-packages\\sklearn\\linear_model\\sag.py:326: ConvergenceWarning: The max_iter was reached which means the coef_ did not converge\n",
      "  \"the coef_ did not converge\", ConvergenceWarning)\n"
     ]
    },
    {
     "name": "stdout",
     "output_type": "stream",
     "text": [
      "Train data 5 Fold Cross Validation Score for Logistic Regression Model: 0.495756\n"
     ]
    }
   ],
   "source": [
    "scores = cross_val_score(model, X_train, y_train, cv = 5)\n",
    "\n",
    "print(\"Train data 5 Fold Cross Validation Score for Logistic Regression Model: %f\" % np.mean(scores));"
   ]
  },
  {
   "cell_type": "code",
   "execution_count": 57,
   "metadata": {},
   "outputs": [
    {
     "name": "stdout",
     "output_type": "stream",
     "text": [
      "Test data prediction accuracy: 0.525424\n"
     ]
    }
   ],
   "source": [
    "y_pred = model.predict(X_test)\n",
    "\n",
    "print(\"Test data prediction accuracy: %f\" % accuracy(y_test, y_pred))"
   ]
  },
  {
   "cell_type": "markdown",
   "metadata": {},
   "source": [
    "### Random Forest Model"
   ]
  },
  {
   "cell_type": "markdown",
   "metadata": {},
   "source": [
    "#### Creating and Fitting\n"
   ]
  },
  {
   "cell_type": "code",
   "execution_count": 58,
   "metadata": {},
   "outputs": [],
   "source": [
    "# Train test split on the original data, without one hot encoding, since our Random Forest Model can handle categorical data.\n",
    "\n",
    "X_train, X_test, y_train, y_test = train_test_split(data[features], data[response], test_size = 0.20)"
   ]
  },
  {
   "cell_type": "code",
   "execution_count": 29,
   "metadata": {},
   "outputs": [],
   "source": [
    "from sklearn.ensemble import RandomForestClassifier\n",
    "from sklearn import tree"
   ]
  },
  {
   "cell_type": "code",
   "execution_count": 30,
   "metadata": {},
   "outputs": [],
   "source": [
    "forest = RandomForestClassifier()"
   ]
  },
  {
   "cell_type": "code",
   "execution_count": 31,
   "metadata": {},
   "outputs": [
    {
     "name": "stderr",
     "output_type": "stream",
     "text": [
      "/anaconda3/lib/python3.6/site-packages/ipykernel_launcher.py:1: DataConversionWarning: A column-vector y was passed when a 1d array was expected. Please change the shape of y to (n_samples,), for example using ravel().\n",
      "  \"\"\"Entry point for launching an IPython kernel.\n"
     ]
    },
    {
     "data": {
      "text/plain": [
       "RandomForestClassifier(bootstrap=True, class_weight=None, criterion='gini',\n",
       "            max_depth=None, max_features='auto', max_leaf_nodes=None,\n",
       "            min_impurity_decrease=0.0, min_impurity_split=None,\n",
       "            min_samples_leaf=1, min_samples_split=2,\n",
       "            min_weight_fraction_leaf=0.0, n_estimators=10, n_jobs=1,\n",
       "            oob_score=False, random_state=None, verbose=0,\n",
       "            warm_start=False)"
      ]
     },
     "execution_count": 31,
     "metadata": {},
     "output_type": "execute_result"
    }
   ],
   "source": [
    "forest.fit(X_train, y_train)"
   ]
  },
  {
   "cell_type": "markdown",
   "metadata": {},
   "source": [
    "#### Model Validation"
   ]
  },
  {
   "cell_type": "code",
   "execution_count": 32,
   "metadata": {},
   "outputs": [
    {
     "name": "stdout",
     "output_type": "stream",
     "text": [
      "Training data prediction accuracy: 0.941426\n"
     ]
    }
   ],
   "source": [
    "y_fitted = forest.predict(X_train)\n",
    "\n",
    "print(\"Training data prediction accuracy: %f\" % accuracy(y_train, y_fitted))\n",
    "\n"
   ]
  },
  {
   "cell_type": "code",
   "execution_count": 33,
   "metadata": {},
   "outputs": [
    {
     "name": "stderr",
     "output_type": "stream",
     "text": [
      "/anaconda3/lib/python3.6/site-packages/sklearn/model_selection/_validation.py:458: DataConversionWarning: A column-vector y was passed when a 1d array was expected. Please change the shape of y to (n_samples,), for example using ravel().\n",
      "  estimator.fit(X_train, y_train, **fit_params)\n",
      "/anaconda3/lib/python3.6/site-packages/sklearn/model_selection/_validation.py:458: DataConversionWarning: A column-vector y was passed when a 1d array was expected. Please change the shape of y to (n_samples,), for example using ravel().\n",
      "  estimator.fit(X_train, y_train, **fit_params)\n"
     ]
    },
    {
     "name": "stdout",
     "output_type": "stream",
     "text": [
      "Train data 5 Fold Cross Validation Score for Random Forest Classifier: 0.521324\n"
     ]
    },
    {
     "name": "stderr",
     "output_type": "stream",
     "text": [
      "/anaconda3/lib/python3.6/site-packages/sklearn/model_selection/_validation.py:458: DataConversionWarning: A column-vector y was passed when a 1d array was expected. Please change the shape of y to (n_samples,), for example using ravel().\n",
      "  estimator.fit(X_train, y_train, **fit_params)\n",
      "/anaconda3/lib/python3.6/site-packages/sklearn/model_selection/_validation.py:458: DataConversionWarning: A column-vector y was passed when a 1d array was expected. Please change the shape of y to (n_samples,), for example using ravel().\n",
      "  estimator.fit(X_train, y_train, **fit_params)\n",
      "/anaconda3/lib/python3.6/site-packages/sklearn/model_selection/_validation.py:458: DataConversionWarning: A column-vector y was passed when a 1d array was expected. Please change the shape of y to (n_samples,), for example using ravel().\n",
      "  estimator.fit(X_train, y_train, **fit_params)\n"
     ]
    }
   ],
   "source": [
    "scores = cross_val_score(forest, X_train, y_train, cv = 5)\n",
    "\n",
    "print(\"Train data 5 Fold Cross Validation Score for Random Forest Classifier: %f\" % np.mean(scores))\n"
   ]
  },
  {
   "cell_type": "code",
   "execution_count": 34,
   "metadata": {},
   "outputs": [
    {
     "name": "stdout",
     "output_type": "stream",
     "text": [
      "Test data prediction accuracy: 0.494915\n"
     ]
    }
   ],
   "source": [
    "y_pred = forest.predict(X_test)\n",
    "\n",
    "print(\"Test data prediction accuracy: %f\" % accuracy(y_test, y_pred))"
   ]
  },
  {
   "cell_type": "markdown",
   "metadata": {},
   "source": [
    "### Results"
   ]
  },
  {
   "cell_type": "markdown",
   "metadata": {},
   "source": [
    "Summary of Model Results\n",
    "\n",
    "| Model         | Training Set Accuracy | Cross Validation Score | Testing Set Accuracy |\n",
    "|---------------|-----------------------|------------------------|----------------------|\n",
    "| Logistic     | 0.529711              | 0.495756               | 0.525424             |\n",
    "| Random Forest | 0.941426              | 0.521324               | 0.494915             |\n",
    "\n",
    "#### Logistic Regression Evaluation\n",
    "\n",
    "Training accuracy, Cross Validation and Testing Accuracy are all within a few percentage points of each other, suggesting that our model has reached the point where if we add more features we may go into the terratory of overfitting. Although the accuracy is pretty low at 50%, since we are choosing between 3 categories, the random chance of guessing the right contraceptive category for a mother is 33%, while our model predicts on test data with 52%. Since we used all the features we had available in this model, we want to see what single feature or set of features can do better than using all our features.\n",
    "\n",
    "#### Random Forest Evaluation\n",
    "\n",
    "Training accuracy is significantly higher than Cross Validation and Testing Accuracy suggesting that our model has been overfit to our data, a drawback of descision trees in general but we  had hoped the effect of which would have been reduced by using a Random Forest. This draws us to the conclusion that the Random Forest, although it has overfit our training data, does not perform significantly worse than our Logistic Regression model, sitting just shy of 50% accuracy, still above the 33% accuracy achieved by randomly guessing what contraceptive type a mother uses. \n"
   ]
  },
  {
   "cell_type": "markdown",
   "metadata": {},
   "source": [
    "## Data Cleaning"
   ]
  },
  {
   "cell_type": "code",
   "execution_count": 42,
   "metadata": {},
   "outputs": [],
   "source": [
    "oh_enc = OneHotEncoder(categories=\"auto\")\n",
    "\n",
    "arr = []\n",
    "for age in data['wife_age']:\n",
    "    if age <= 20:\n",
    "        arr.append(1)\n",
    "    elif age > 20 and age <= 30:\n",
    "        arr.append(2)\n",
    "    elif age > 30 and age <= 40:\n",
    "        arr.append(3)\n",
    "    elif age > 40 and age <= 50:\n",
    "        arr.append(4)\n",
    "    \n",
    "data['age_category'] = arr"
   ]
  },
  {
   "cell_type": "code",
   "execution_count": 43,
   "metadata": {},
   "outputs": [],
   "source": [
    "arr_child = []\n",
    "for age in data['num_child']:\n",
    "    if age == 0:\n",
    "        arr_child.append(1)\n",
    "    elif age > 0 and age <= 2:\n",
    "        arr_child.append(2)\n",
    "    elif age > 2 and age <= 5:\n",
    "        arr_child.append(3)\n",
    "    elif age > 5 and age <= 8:\n",
    "        arr_child.append(4)\n",
    "    elif age > 8 and age <= 12:\n",
    "        arr_child.append(5)\n",
    "    else:\n",
    "        arr_child.append(6)\n",
    "    \n",
    "data['num_child_category'] = arr_child"
   ]
  },
  {
   "cell_type": "code",
   "execution_count": 44,
   "metadata": {},
   "outputs": [],
   "source": [
    "## Data Transformations"
   ]
  },
  {
   "cell_type": "code",
   "execution_count": 46,
   "metadata": {},
   "outputs": [
    {
     "name": "stdout",
     "output_type": "stream",
     "text": [
      "1178\n",
      "295\n"
     ]
    }
   ],
   "source": [
    "from sklearn.model_selection import train_test_split\n",
    "\n",
    "train, test = train_test_split(data, test_size=0.20, random_state=42)\n",
    "print(len(train))\n",
    "print(len(test))"
   ]
  },
  {
   "cell_type": "code",
   "execution_count": 48,
   "metadata": {},
   "outputs": [
    {
     "ename": "AttributeError",
     "evalue": "'OneHotEncoder' object has no attribute 'get_feature_names'",
     "output_type": "error",
     "traceback": [
      "\u001b[0;31m---------------------------------------------------------------------------\u001b[0m",
      "\u001b[0;31mAttributeError\u001b[0m                            Traceback (most recent call last)",
      "\u001b[0;32m<ipython-input-48-f9291e2ab0ea>\u001b[0m in \u001b[0;36m<module>\u001b[0;34m()\u001b[0m\n\u001b[1;32m      8\u001b[0m     \u001b[0moh_enc\u001b[0m \u001b[0;34m=\u001b[0m \u001b[0mOneHotEncoder\u001b[0m\u001b[0;34m(\u001b[0m\u001b[0;34m)\u001b[0m\u001b[0;34m\u001b[0m\u001b[0m\n\u001b[1;32m      9\u001b[0m     \u001b[0moh_enc\u001b[0m\u001b[0;34m.\u001b[0m\u001b[0mfit\u001b[0m\u001b[0;34m(\u001b[0m\u001b[0mtrain\u001b[0m\u001b[0;34m[\u001b[0m\u001b[0;34m[\u001b[0m\u001b[0mcol\u001b[0m\u001b[0;34m]\u001b[0m\u001b[0;34m]\u001b[0m\u001b[0;34m)\u001b[0m\u001b[0;34m\u001b[0m\u001b[0m\n\u001b[0;32m---> 10\u001b[0;31m     \u001b[0moh_enc\u001b[0m\u001b[0;34m.\u001b[0m\u001b[0mget_feature_names\u001b[0m\u001b[0;34m(\u001b[0m\u001b[0;34m)\u001b[0m\u001b[0;34m\u001b[0m\u001b[0m\n\u001b[0m\u001b[1;32m     11\u001b[0m     \u001b[0mX_train\u001b[0m \u001b[0;34m=\u001b[0m \u001b[0moh_enc\u001b[0m\u001b[0;34m.\u001b[0m\u001b[0mtransform\u001b[0m\u001b[0;34m(\u001b[0m\u001b[0mtrain\u001b[0m\u001b[0;34m[\u001b[0m\u001b[0;34m[\u001b[0m\u001b[0mcol\u001b[0m\u001b[0;34m]\u001b[0m\u001b[0;34m]\u001b[0m\u001b[0;34m)\u001b[0m\u001b[0;34m.\u001b[0m\u001b[0mtodense\u001b[0m\u001b[0;34m(\u001b[0m\u001b[0;34m)\u001b[0m\u001b[0;34m\u001b[0m\u001b[0m\n\u001b[1;32m     12\u001b[0m     \u001b[0mY_train\u001b[0m \u001b[0;34m=\u001b[0m \u001b[0mtrain\u001b[0m\u001b[0;34m[\u001b[0m\u001b[0;34m\"contraceptive\"\u001b[0m\u001b[0;34m]\u001b[0m\u001b[0;34m\u001b[0m\u001b[0m\n",
      "\u001b[0;31mAttributeError\u001b[0m: 'OneHotEncoder' object has no attribute 'get_feature_names'"
     ]
    }
   ],
   "source": [
    "# All in loop\n",
    "\n",
    "for col in data:\n",
    "    \n",
    "    if (col == 'wife_age' or col == 'num_child'):\n",
    "        continue\n",
    "    \n",
    "    oh_enc = OneHotEncoder()\n",
    "    oh_enc.fit(train[[col]])\n",
    "    oh_enc.get_feature_names()\n",
    "    X_train = oh_enc.transform(train[[col]]).todense()\n",
    "    Y_train = train[\"contraceptive\"]\n",
    "\n",
    "    from sklearn.model_selection import cross_val_score\n",
    "    from sklearn.linear_model import LogisticRegression\n",
    "\n",
    "    model = LogisticRegression(solver='lbfgs', multi_class='auto', C=1e5)\n",
    "    model.fit(X_train, Y_train)\n",
    "    \n",
    "    X_test = oh_enc.transform(test[[col]]).todense()\n",
    "    Y_test = test['contraceptive']\n",
    "    \n",
    "    print(col, model.score(X_test, Y_test))"
   ]
  },
  {
   "cell_type": "code",
   "execution_count": 49,
   "metadata": {},
   "outputs": [
    {
     "ename": "TypeError",
     "evalue": "__init__() got an unexpected keyword argument 'categories'",
     "output_type": "error",
     "traceback": [
      "\u001b[0;31m---------------------------------------------------------------------------\u001b[0m",
      "\u001b[0;31mTypeError\u001b[0m                                 Traceback (most recent call last)",
      "\u001b[0;32m<ipython-input-49-bc491673e7a5>\u001b[0m in \u001b[0;36m<module>\u001b[0;34m()\u001b[0m\n\u001b[0;32m----> 1\u001b[0;31m \u001b[0moh_enc\u001b[0m \u001b[0;34m=\u001b[0m \u001b[0mOneHotEncoder\u001b[0m\u001b[0;34m(\u001b[0m\u001b[0mcategories\u001b[0m\u001b[0;34m=\u001b[0m\u001b[0;34m\"auto\"\u001b[0m\u001b[0;34m)\u001b[0m\u001b[0;34m\u001b[0m\u001b[0m\n\u001b[0m\u001b[1;32m      2\u001b[0m \u001b[0mcols\u001b[0m \u001b[0;34m=\u001b[0m \u001b[0;34m[\u001b[0m\u001b[0;34m'wife_education'\u001b[0m\u001b[0;34m,\u001b[0m \u001b[0;34m'husband_education'\u001b[0m\u001b[0;34m,\u001b[0m \u001b[0;34m'wife_religion'\u001b[0m\u001b[0;34m,\u001b[0m \u001b[0;34m'husband_occupation'\u001b[0m\u001b[0;34m]\u001b[0m\u001b[0;34m\u001b[0m\u001b[0m\n\u001b[1;32m      3\u001b[0m \u001b[0;34m\u001b[0m\u001b[0m\n\u001b[1;32m      4\u001b[0m \u001b[0moh_enc\u001b[0m\u001b[0;34m.\u001b[0m\u001b[0mfit\u001b[0m\u001b[0;34m(\u001b[0m\u001b[0mtrain\u001b[0m\u001b[0;34m[\u001b[0m\u001b[0mcols\u001b[0m\u001b[0;34m]\u001b[0m\u001b[0;34m)\u001b[0m\u001b[0;34m\u001b[0m\u001b[0m\n\u001b[1;32m      5\u001b[0m \u001b[0mX_train\u001b[0m \u001b[0;34m=\u001b[0m \u001b[0moh_enc\u001b[0m\u001b[0;34m.\u001b[0m\u001b[0mtransform\u001b[0m\u001b[0;34m(\u001b[0m\u001b[0mtrain\u001b[0m\u001b[0;34m[\u001b[0m\u001b[0mcols\u001b[0m\u001b[0;34m]\u001b[0m\u001b[0;34m)\u001b[0m\u001b[0;34m.\u001b[0m\u001b[0mtodense\u001b[0m\u001b[0;34m(\u001b[0m\u001b[0;34m)\u001b[0m\u001b[0;34m\u001b[0m\u001b[0m\n",
      "\u001b[0;31mTypeError\u001b[0m: __init__() got an unexpected keyword argument 'categories'"
     ]
    }
   ],
   "source": [
    "oh_enc = OneHotEncoder(categories=\"auto\")\n",
    "cols = ['wife_education', 'husband_education', 'wife_religion', 'husband_occupation']\n",
    "\n",
    "oh_enc.fit(train[cols])\n",
    "X_train = oh_enc.transform(train[cols]).todense()\n",
    "Y_train = train[\"contraceptive\"]\n",
    "print(X_train)\n",
    "\n",
    "from sklearn.model_selection import cross_val_score\n",
    "from sklearn.linear_model import LogisticRegression\n",
    "\n",
    "model = LogisticRegression(solver='lbfgs', multi_class='auto', C=1e5)\n",
    "model.fit(X_train, Y_train)\n",
    "\n",
    "X_test = oh_enc.transform(test[cols]).todense()\n",
    "Y_test = test['contraceptive']\n",
    "\n",
    "print(model.score(X_train, Y_train))"
   ]
  },
  {
   "cell_type": "code",
   "execution_count": null,
   "metadata": {},
   "outputs": [],
   "source": [
    "cols = ['wife_education', 'husband_education', 'husband_occupation', 'age_category', 'num_child_category']\n",
    "\n",
    "oh_enc.fit(train[cols])\n",
    "X_train = oh_enc.transform(train[cols]).todense()\n",
    "Y_train = train[\"contraceptive\"]\n",
    "print(X_train)\n",
    "\n",
    "from sklearn.model_selection import cross_val_score\n",
    "from sklearn.linear_model import LogisticRegression\n",
    "\n",
    "model = LogisticRegression(solver='lbfgs', multi_class='auto', C=1e5)\n",
    "model.fit(X_train, Y_train)\n",
    "\n",
    "X_test = oh_enc.transform(test[cols]).todense()\n",
    "Y_test = test['contraceptive']\n",
    "\n",
    "print(model.score(X_test, Y_test))"
   ]
  }
 ],
 "metadata": {
  "colab": {
   "collapsed_sections": [],
   "name": "Data 100 Final Project.ipynb",
   "provenance": []
  },
  "kernelspec": {
   "display_name": "Python 3",
   "language": "python",
   "name": "python3"
  },
  "language_info": {
   "codemirror_mode": {
    "name": "ipython",
    "version": 3
   },
   "file_extension": ".py",
   "mimetype": "text/x-python",
   "name": "python",
   "nbconvert_exporter": "python",
   "pygments_lexer": "ipython3",
   "version": "3.6.5"
  }
 },
 "nbformat": 4,
 "nbformat_minor": 1
}
