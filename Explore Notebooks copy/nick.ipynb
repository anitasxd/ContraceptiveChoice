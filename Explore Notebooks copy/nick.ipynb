{
 "cells": [
  {
   "cell_type": "markdown",
   "metadata": {
    "colab_type": "text",
    "id": "n01jFC096JGL"
   },
   "source": [
    "# Data 100 - [Final Project ](http://www.ds100.org/sp20/resources/assets/final_proj/final_proj_spec.pdf)\n",
    "## Spring 2020\n",
    "\n",
    "### Saketh Kollu, Anita Shen, Nicholas Wang\n",
    "\n",
    "Dataset: [Contraceptive](https://archive.ics.uci.edu/ml/datasets/Contraceptive+Method+Choice)\n",
    "\n",
    "[Rubric](https://d1b10bmlvqabco.cloudfront.net/attach/k4zyqkjkyt33a2/j4f6z772zscwl/k9ns0abjn95w/Undergrad_DS_100_Final_Project_Rubric_Release.pdftps://)\n",
    "\n"
   ]
  },
  {
   "cell_type": "markdown",
   "metadata": {
    "colab_type": "text",
    "id": "JPlskuWO9tSM"
   },
   "source": [
    "# Guiding Questions\n",
    "\n",
    "1. Which column variable affects the Contraceptive method used the most?\n",
    "2. How is the Contraceptive method used related to the number of children?\n",
    "3. Can we build a multinomial logistic regression to predict which type of contraceptive method used by an individual given certain variables?"
   ]
  },
  {
   "cell_type": "markdown",
   "metadata": {
    "colab_type": "text",
    "id": "qCVz79xS9z3v"
   },
   "source": [
    "Alright here we put our questions maybe hypotheseses etc"
   ]
  },
  {
   "cell_type": "code",
   "execution_count": 1,
   "metadata": {
    "colab": {
     "base_uri": "https://localhost:8080/",
     "height": 71
    },
    "colab_type": "code",
    "id": "3ToUI7sN7_OG",
    "outputId": "64a5b8d4-81df-42fb-d09f-4c35e8435869"
   },
   "outputs": [],
   "source": [
    "# Library imports\n",
    "\n",
    "import pandas as pd\n",
    "import numpy as np\n",
    "import seaborn as sns\n",
    "\n",
    "%matplotlib inline\n",
    "import matplotlib.pyplot as plt"
   ]
  },
  {
   "cell_type": "code",
   "execution_count": 2,
   "metadata": {
    "colab": {
     "base_uri": "https://localhost:8080/",
     "height": 204
    },
    "colab_type": "code",
    "id": "AWMYm2NV8c2M",
    "outputId": "fb0b5e61-8062-4934-aef2-8b742f730c7d"
   },
   "outputs": [
    {
     "data": {
      "text/html": [
       "<div>\n",
       "<style scoped>\n",
       "    .dataframe tbody tr th:only-of-type {\n",
       "        vertical-align: middle;\n",
       "    }\n",
       "\n",
       "    .dataframe tbody tr th {\n",
       "        vertical-align: top;\n",
       "    }\n",
       "\n",
       "    .dataframe thead th {\n",
       "        text-align: right;\n",
       "    }\n",
       "</style>\n",
       "<table border=\"1\" class=\"dataframe\">\n",
       "  <thead>\n",
       "    <tr style=\"text-align: right;\">\n",
       "      <th></th>\n",
       "      <th>wife_age</th>\n",
       "      <th>wife_education</th>\n",
       "      <th>husband_education</th>\n",
       "      <th>num_child</th>\n",
       "      <th>wife_religion</th>\n",
       "      <th>wife_work</th>\n",
       "      <th>husband_occupation</th>\n",
       "      <th>standard_living</th>\n",
       "      <th>media_exposure</th>\n",
       "      <th>contraceptive</th>\n",
       "    </tr>\n",
       "  </thead>\n",
       "  <tbody>\n",
       "    <tr>\n",
       "      <th>311</th>\n",
       "      <td>36</td>\n",
       "      <td>3</td>\n",
       "      <td>3</td>\n",
       "      <td>2</td>\n",
       "      <td>1</td>\n",
       "      <td>0</td>\n",
       "      <td>2</td>\n",
       "      <td>4</td>\n",
       "      <td>0</td>\n",
       "      <td>1</td>\n",
       "    </tr>\n",
       "    <tr>\n",
       "      <th>1015</th>\n",
       "      <td>22</td>\n",
       "      <td>4</td>\n",
       "      <td>4</td>\n",
       "      <td>0</td>\n",
       "      <td>1</td>\n",
       "      <td>1</td>\n",
       "      <td>3</td>\n",
       "      <td>2</td>\n",
       "      <td>0</td>\n",
       "      <td>1</td>\n",
       "    </tr>\n",
       "    <tr>\n",
       "      <th>1219</th>\n",
       "      <td>21</td>\n",
       "      <td>4</td>\n",
       "      <td>4</td>\n",
       "      <td>1</td>\n",
       "      <td>1</td>\n",
       "      <td>1</td>\n",
       "      <td>1</td>\n",
       "      <td>3</td>\n",
       "      <td>0</td>\n",
       "      <td>2</td>\n",
       "    </tr>\n",
       "    <tr>\n",
       "      <th>7</th>\n",
       "      <td>21</td>\n",
       "      <td>3</td>\n",
       "      <td>3</td>\n",
       "      <td>1</td>\n",
       "      <td>1</td>\n",
       "      <td>0</td>\n",
       "      <td>3</td>\n",
       "      <td>2</td>\n",
       "      <td>0</td>\n",
       "      <td>1</td>\n",
       "    </tr>\n",
       "    <tr>\n",
       "      <th>1057</th>\n",
       "      <td>27</td>\n",
       "      <td>3</td>\n",
       "      <td>4</td>\n",
       "      <td>2</td>\n",
       "      <td>1</td>\n",
       "      <td>1</td>\n",
       "      <td>1</td>\n",
       "      <td>3</td>\n",
       "      <td>0</td>\n",
       "      <td>1</td>\n",
       "    </tr>\n",
       "  </tbody>\n",
       "</table>\n",
       "</div>"
      ],
      "text/plain": [
       "      wife_age  wife_education  husband_education  num_child  wife_religion  \\\n",
       "311         36               3                  3          2              1   \n",
       "1015        22               4                  4          0              1   \n",
       "1219        21               4                  4          1              1   \n",
       "7           21               3                  3          1              1   \n",
       "1057        27               3                  4          2              1   \n",
       "\n",
       "      wife_work  husband_occupation  standard_living  media_exposure  \\\n",
       "311           0                   2                4               0   \n",
       "1015          1                   3                2               0   \n",
       "1219          1                   1                3               0   \n",
       "7             0                   3                2               0   \n",
       "1057          1                   1                3               0   \n",
       "\n",
       "      contraceptive  \n",
       "311               1  \n",
       "1015              1  \n",
       "1219              2  \n",
       "7                 1  \n",
       "1057              1  "
      ]
     },
     "execution_count": 2,
     "metadata": {},
     "output_type": "execute_result"
    }
   ],
   "source": [
    "# Data imports\n",
    "\n",
    "data = pd.read_csv(\"./contraceptive_for_students.csv\")\n",
    "data.sample(5)\n"
   ]
  },
  {
   "cell_type": "code",
   "execution_count": 3,
   "metadata": {
    "colab": {
     "base_uri": "https://localhost:8080/",
     "height": 297
    },
    "colab_type": "code",
    "id": "QhXOuFqrNlMv",
    "outputId": "596eedb3-8d73-4eff-e2a9-b8cee06879b2"
   },
   "outputs": [
    {
     "data": {
      "text/html": [
       "<div>\n",
       "<style scoped>\n",
       "    .dataframe tbody tr th:only-of-type {\n",
       "        vertical-align: middle;\n",
       "    }\n",
       "\n",
       "    .dataframe tbody tr th {\n",
       "        vertical-align: top;\n",
       "    }\n",
       "\n",
       "    .dataframe thead th {\n",
       "        text-align: right;\n",
       "    }\n",
       "</style>\n",
       "<table border=\"1\" class=\"dataframe\">\n",
       "  <thead>\n",
       "    <tr style=\"text-align: right;\">\n",
       "      <th></th>\n",
       "      <th>wife_age</th>\n",
       "      <th>wife_education</th>\n",
       "      <th>husband_education</th>\n",
       "      <th>num_child</th>\n",
       "      <th>wife_religion</th>\n",
       "      <th>wife_work</th>\n",
       "      <th>husband_occupation</th>\n",
       "      <th>standard_living</th>\n",
       "      <th>media_exposure</th>\n",
       "      <th>contraceptive</th>\n",
       "    </tr>\n",
       "  </thead>\n",
       "  <tbody>\n",
       "    <tr>\n",
       "      <th>count</th>\n",
       "      <td>1473.000000</td>\n",
       "      <td>1473.000000</td>\n",
       "      <td>1473.000000</td>\n",
       "      <td>1473.000000</td>\n",
       "      <td>1473.000000</td>\n",
       "      <td>1473.000000</td>\n",
       "      <td>1473.000000</td>\n",
       "      <td>1473.000000</td>\n",
       "      <td>1473.000000</td>\n",
       "      <td>1473.000000</td>\n",
       "    </tr>\n",
       "    <tr>\n",
       "      <th>mean</th>\n",
       "      <td>32.538357</td>\n",
       "      <td>2.958588</td>\n",
       "      <td>3.429735</td>\n",
       "      <td>3.261371</td>\n",
       "      <td>0.850645</td>\n",
       "      <td>0.749491</td>\n",
       "      <td>2.137814</td>\n",
       "      <td>3.133741</td>\n",
       "      <td>0.073999</td>\n",
       "      <td>1.919891</td>\n",
       "    </tr>\n",
       "    <tr>\n",
       "      <th>std</th>\n",
       "      <td>8.227245</td>\n",
       "      <td>1.014994</td>\n",
       "      <td>0.816349</td>\n",
       "      <td>2.358549</td>\n",
       "      <td>0.356559</td>\n",
       "      <td>0.433453</td>\n",
       "      <td>0.864857</td>\n",
       "      <td>0.976161</td>\n",
       "      <td>0.261858</td>\n",
       "      <td>0.876376</td>\n",
       "    </tr>\n",
       "    <tr>\n",
       "      <th>min</th>\n",
       "      <td>16.000000</td>\n",
       "      <td>1.000000</td>\n",
       "      <td>1.000000</td>\n",
       "      <td>0.000000</td>\n",
       "      <td>0.000000</td>\n",
       "      <td>0.000000</td>\n",
       "      <td>1.000000</td>\n",
       "      <td>1.000000</td>\n",
       "      <td>0.000000</td>\n",
       "      <td>1.000000</td>\n",
       "    </tr>\n",
       "    <tr>\n",
       "      <th>25%</th>\n",
       "      <td>26.000000</td>\n",
       "      <td>2.000000</td>\n",
       "      <td>3.000000</td>\n",
       "      <td>1.000000</td>\n",
       "      <td>1.000000</td>\n",
       "      <td>0.000000</td>\n",
       "      <td>1.000000</td>\n",
       "      <td>3.000000</td>\n",
       "      <td>0.000000</td>\n",
       "      <td>1.000000</td>\n",
       "    </tr>\n",
       "    <tr>\n",
       "      <th>50%</th>\n",
       "      <td>32.000000</td>\n",
       "      <td>3.000000</td>\n",
       "      <td>4.000000</td>\n",
       "      <td>3.000000</td>\n",
       "      <td>1.000000</td>\n",
       "      <td>1.000000</td>\n",
       "      <td>2.000000</td>\n",
       "      <td>3.000000</td>\n",
       "      <td>0.000000</td>\n",
       "      <td>2.000000</td>\n",
       "    </tr>\n",
       "    <tr>\n",
       "      <th>75%</th>\n",
       "      <td>39.000000</td>\n",
       "      <td>4.000000</td>\n",
       "      <td>4.000000</td>\n",
       "      <td>4.000000</td>\n",
       "      <td>1.000000</td>\n",
       "      <td>1.000000</td>\n",
       "      <td>3.000000</td>\n",
       "      <td>4.000000</td>\n",
       "      <td>0.000000</td>\n",
       "      <td>3.000000</td>\n",
       "    </tr>\n",
       "    <tr>\n",
       "      <th>max</th>\n",
       "      <td>49.000000</td>\n",
       "      <td>4.000000</td>\n",
       "      <td>4.000000</td>\n",
       "      <td>16.000000</td>\n",
       "      <td>1.000000</td>\n",
       "      <td>1.000000</td>\n",
       "      <td>4.000000</td>\n",
       "      <td>4.000000</td>\n",
       "      <td>1.000000</td>\n",
       "      <td>3.000000</td>\n",
       "    </tr>\n",
       "  </tbody>\n",
       "</table>\n",
       "</div>"
      ],
      "text/plain": [
       "          wife_age  wife_education  husband_education    num_child  \\\n",
       "count  1473.000000     1473.000000        1473.000000  1473.000000   \n",
       "mean     32.538357        2.958588           3.429735     3.261371   \n",
       "std       8.227245        1.014994           0.816349     2.358549   \n",
       "min      16.000000        1.000000           1.000000     0.000000   \n",
       "25%      26.000000        2.000000           3.000000     1.000000   \n",
       "50%      32.000000        3.000000           4.000000     3.000000   \n",
       "75%      39.000000        4.000000           4.000000     4.000000   \n",
       "max      49.000000        4.000000           4.000000    16.000000   \n",
       "\n",
       "       wife_religion    wife_work  husband_occupation  standard_living  \\\n",
       "count    1473.000000  1473.000000         1473.000000      1473.000000   \n",
       "mean        0.850645     0.749491            2.137814         3.133741   \n",
       "std         0.356559     0.433453            0.864857         0.976161   \n",
       "min         0.000000     0.000000            1.000000         1.000000   \n",
       "25%         1.000000     0.000000            1.000000         3.000000   \n",
       "50%         1.000000     1.000000            2.000000         3.000000   \n",
       "75%         1.000000     1.000000            3.000000         4.000000   \n",
       "max         1.000000     1.000000            4.000000         4.000000   \n",
       "\n",
       "       media_exposure  contraceptive  \n",
       "count     1473.000000    1473.000000  \n",
       "mean         0.073999       1.919891  \n",
       "std          0.261858       0.876376  \n",
       "min          0.000000       1.000000  \n",
       "25%          0.000000       1.000000  \n",
       "50%          0.000000       2.000000  \n",
       "75%          0.000000       3.000000  \n",
       "max          1.000000       3.000000  "
      ]
     },
     "execution_count": 3,
     "metadata": {},
     "output_type": "execute_result"
    }
   ],
   "source": [
    "data.describe()"
   ]
  },
  {
   "cell_type": "code",
   "execution_count": 4,
   "metadata": {
    "colab": {
     "base_uri": "https://localhost:8080/",
     "height": 255
    },
    "colab_type": "code",
    "id": "7CKfp8pRN577",
    "outputId": "40898189-d794-4193-b9e7-a5ba36e0ad6f"
   },
   "outputs": [
    {
     "data": {
      "text/plain": [
       "<bound method DataFrame.info of       wife_age  wife_education  husband_education  num_child  wife_religion  \\\n",
       "0           24               2                  3          3              1   \n",
       "1           45               1                  3         10              1   \n",
       "2           43               2                  3          7              1   \n",
       "3           42               3                  2          9              1   \n",
       "4           36               3                  3          8              1   \n",
       "5           19               4                  4          0              1   \n",
       "6           38               2                  3          6              1   \n",
       "7           21               3                  3          1              1   \n",
       "8           27               2                  3          3              1   \n",
       "9           45               1                  1          8              1   \n",
       "10          38               1                  3          2              1   \n",
       "11          42               1                  4          4              1   \n",
       "12          44               4                  4          1              1   \n",
       "13          42               2                  4          1              1   \n",
       "14          38               3                  4          2              1   \n",
       "15          26               2                  4          0              1   \n",
       "16          48               1                  1          7              1   \n",
       "17          39               2                  2          6              1   \n",
       "18          37               2                  2          8              1   \n",
       "19          39               2                  1          5              1   \n",
       "20          26               3                  4          1              1   \n",
       "21          24               3                  4          0              1   \n",
       "22          46               4                  4          1              0   \n",
       "23          39               4                  4          1              1   \n",
       "24          48               4                  4          5              1   \n",
       "25          40               2                  4          8              1   \n",
       "26          38               4                  4          1              1   \n",
       "27          29               4                  4          0              1   \n",
       "28          24               4                  4          0              1   \n",
       "29          43               1                  2          8              1   \n",
       "...        ...             ...                ...        ...            ...   \n",
       "1443        21               2                  2          0              0   \n",
       "1444        22               4                  4          2              1   \n",
       "1445        36               4                  4          3              0   \n",
       "1446        45               2                  3          3              0   \n",
       "1447        34               4                  4          2              0   \n",
       "1448        35               2                  3          5              1   \n",
       "1449        19               4                  4          1              1   \n",
       "1450        27               4                  4          4              1   \n",
       "1451        37               2                  4          4              1   \n",
       "1452        26               3                  2          4              1   \n",
       "1453        28               1                  3          5              1   \n",
       "1454        31               3                  4          5              1   \n",
       "1455        32               2                  2          6              1   \n",
       "1456        40               2                  2          4              0   \n",
       "1457        27               3                  3          5              1   \n",
       "1458        27               2                  2          3              1   \n",
       "1459        37               4                  4          5              0   \n",
       "1460        22               4                  3          1              1   \n",
       "1461        27               4                  4          4              1   \n",
       "1462        21               4                  4          1              0   \n",
       "1463        30               1                  3          2              1   \n",
       "1464        23               2                  2          1              1   \n",
       "1465        25               2                  4          3              1   \n",
       "1466        42               2                  4          6              1   \n",
       "1467        29               4                  4          3              1   \n",
       "1468        33               4                  4          2              1   \n",
       "1469        33               4                  4          3              1   \n",
       "1470        39               3                  3          8              1   \n",
       "1471        33               3                  3          4              1   \n",
       "1472        17               3                  3          1              1   \n",
       "\n",
       "      wife_work  husband_occupation  standard_living  media_exposure  \\\n",
       "0             1                   2                3               0   \n",
       "1             1                   3                4               0   \n",
       "2             1                   3                4               0   \n",
       "3             1                   3                3               0   \n",
       "4             1                   3                2               0   \n",
       "5             1                   3                3               0   \n",
       "6             1                   3                2               0   \n",
       "7             0                   3                2               0   \n",
       "8             1                   3                4               0   \n",
       "9             1                   2                2               1   \n",
       "10            0                   3                3               1   \n",
       "11            1                   1                3               0   \n",
       "12            0                   1                4               0   \n",
       "13            0                   3                3               0   \n",
       "14            1                   2                3               0   \n",
       "15            1                   4                1               0   \n",
       "16            1                   2                4               0   \n",
       "17            1                   2                4               0   \n",
       "18            1                   2                3               0   \n",
       "19            1                   2                1               1   \n",
       "20            0                   4                1               0   \n",
       "21            0                   3                1               0   \n",
       "22            1                   1                4               0   \n",
       "23            1                   1                4               0   \n",
       "24            1                   1                4               0   \n",
       "25            1                   3                3               0   \n",
       "26            0                   1                4               0   \n",
       "27            0                   1                4               0   \n",
       "28            0                   2                2               0   \n",
       "29            1                   2                4               0   \n",
       "...         ...                 ...              ...             ...   \n",
       "1443          1                   4                4               0   \n",
       "1444          1                   3                4               0   \n",
       "1445          1                   3                4               0   \n",
       "1446          0                   2                4               0   \n",
       "1447          0                   2                4               0   \n",
       "1448          1                   3                3               0   \n",
       "1449          1                   2                3               0   \n",
       "1450          1                   3                3               0   \n",
       "1451          0                   2                3               0   \n",
       "1452          1                   3                4               0   \n",
       "1453          1                   3                4               0   \n",
       "1454          1                   1                4               0   \n",
       "1455          1                   2                3               0   \n",
       "1456          0                   2                4               0   \n",
       "1457          1                   2                4               0   \n",
       "1458          1                   2                2               1   \n",
       "1459          0                   2                4               0   \n",
       "1460          1                   2                2               0   \n",
       "1461          1                   1                2               1   \n",
       "1462          1                   2                4               0   \n",
       "1463          1                   3                4               0   \n",
       "1464          1                   2                4               0   \n",
       "1465          1                   1                3               0   \n",
       "1466          1                   2                4               0   \n",
       "1467          1                   1                4               0   \n",
       "1468          0                   2                4               0   \n",
       "1469          1                   1                4               0   \n",
       "1470          0                   1                4               0   \n",
       "1471          0                   2                2               0   \n",
       "1472          1                   2                4               0   \n",
       "\n",
       "      contraceptive  \n",
       "0                 1  \n",
       "1                 1  \n",
       "2                 1  \n",
       "3                 1  \n",
       "4                 1  \n",
       "5                 1  \n",
       "6                 1  \n",
       "7                 1  \n",
       "8                 1  \n",
       "9                 1  \n",
       "10                1  \n",
       "11                1  \n",
       "12                1  \n",
       "13                1  \n",
       "14                1  \n",
       "15                1  \n",
       "16                1  \n",
       "17                1  \n",
       "18                1  \n",
       "19                1  \n",
       "20                1  \n",
       "21                1  \n",
       "22                1  \n",
       "23                1  \n",
       "24                1  \n",
       "25                1  \n",
       "26                1  \n",
       "27                1  \n",
       "28                1  \n",
       "29                1  \n",
       "...             ...  \n",
       "1443              3  \n",
       "1444              3  \n",
       "1445              3  \n",
       "1446              3  \n",
       "1447              3  \n",
       "1448              3  \n",
       "1449              3  \n",
       "1450              3  \n",
       "1451              3  \n",
       "1452              3  \n",
       "1453              3  \n",
       "1454              3  \n",
       "1455              3  \n",
       "1456              3  \n",
       "1457              3  \n",
       "1458              3  \n",
       "1459              3  \n",
       "1460              3  \n",
       "1461              3  \n",
       "1462              3  \n",
       "1463              3  \n",
       "1464              3  \n",
       "1465              3  \n",
       "1466              3  \n",
       "1467              3  \n",
       "1468              3  \n",
       "1469              3  \n",
       "1470              3  \n",
       "1471              3  \n",
       "1472              3  \n",
       "\n",
       "[1473 rows x 10 columns]>"
      ]
     },
     "execution_count": 4,
     "metadata": {},
     "output_type": "execute_result"
    }
   ],
   "source": [
    "data.shape\n",
    "data.info"
   ]
  },
  {
   "cell_type": "code",
   "execution_count": null,
   "metadata": {
    "colab": {},
    "colab_type": "code",
    "id": "6QHzSvwAOsgn"
   },
   "outputs": [],
   "source": []
  },
  {
   "cell_type": "markdown",
   "metadata": {
    "colab_type": "text",
    "id": "3tbQ4f9E69fK"
   },
   "source": [
    "## Data Cleaning"
   ]
  },
  {
   "cell_type": "code",
   "execution_count": 5,
   "metadata": {
    "colab": {
     "base_uri": "https://localhost:8080/",
     "height": 358
    },
    "colab_type": "code",
    "id": "cH2OIjXC7zkw",
    "outputId": "d71364b6-d0c6-4524-e8b8-6b20d1c6e012"
   },
   "outputs": [
    {
     "ename": "NameError",
     "evalue": "name 'OneHotEncoder' is not defined",
     "output_type": "error",
     "traceback": [
      "\u001b[0;31m---------------------------------------------------------------------------\u001b[0m",
      "\u001b[0;31mNameError\u001b[0m                                 Traceback (most recent call last)",
      "\u001b[0;32m<ipython-input-5-2889e084ed9e>\u001b[0m in \u001b[0;36m<module>\u001b[0;34m()\u001b[0m\n\u001b[0;32m----> 1\u001b[0;31m \u001b[0moh_enc\u001b[0m \u001b[0;34m=\u001b[0m \u001b[0mOneHotEncoder\u001b[0m\u001b[0;34m(\u001b[0m\u001b[0mcategories\u001b[0m\u001b[0;34m=\u001b[0m\u001b[0;34m\"auto\"\u001b[0m\u001b[0;34m)\u001b[0m\u001b[0;34m\u001b[0m\u001b[0m\n\u001b[0m\u001b[1;32m      2\u001b[0m \u001b[0;34m\u001b[0m\u001b[0m\n\u001b[1;32m      3\u001b[0m \u001b[0marr\u001b[0m \u001b[0;34m=\u001b[0m \u001b[0;34m[\u001b[0m\u001b[0;34m]\u001b[0m\u001b[0;34m\u001b[0m\u001b[0m\n\u001b[1;32m      4\u001b[0m \u001b[0;32mfor\u001b[0m \u001b[0mage\u001b[0m \u001b[0;32min\u001b[0m \u001b[0mdata\u001b[0m\u001b[0;34m[\u001b[0m\u001b[0;34m'wife_age'\u001b[0m\u001b[0;34m]\u001b[0m\u001b[0;34m:\u001b[0m\u001b[0;34m\u001b[0m\u001b[0m\n\u001b[1;32m      5\u001b[0m     \u001b[0;32mif\u001b[0m \u001b[0mage\u001b[0m \u001b[0;34m<=\u001b[0m \u001b[0;36m20\u001b[0m\u001b[0;34m:\u001b[0m\u001b[0;34m\u001b[0m\u001b[0m\n",
      "\u001b[0;31mNameError\u001b[0m: name 'OneHotEncoder' is not defined"
     ]
    }
   ],
   "source": [
    "oh_enc = OneHotEncoder(categories=\"auto\")\n",
    "\n",
    "arr = []\n",
    "for age in data['wife_age']:\n",
    "    if age <= 20:\n",
    "        arr.append(1)\n",
    "    elif age > 20 and age <= 30:\n",
    "        arr.append(2)\n",
    "    elif age > 30 and age <= 40:\n",
    "        arr.append(3)\n",
    "    elif age > 40 and age <= 50:\n",
    "        arr.append(4)\n",
    "    \n",
    "data['age_category'] = arr"
   ]
  },
  {
   "cell_type": "code",
   "execution_count": null,
   "metadata": {},
   "outputs": [],
   "source": [
    "arr_child = []\n",
    "for age in data['num_child']:\n",
    "    if age == 0:\n",
    "        arr_child.append(1)\n",
    "    elif age > 0 and age <= 2:\n",
    "        arr_child.append(2)\n",
    "    elif age > 2 and age <= 5:\n",
    "        arr_child.append(3)\n",
    "    elif age > 5 and age <= 8:\n",
    "        arr_child.append(4)\n",
    "    elif age > 8 and age <= 12:\n",
    "        arr_child.append(5)\n",
    "    else:\n",
    "        arr_child.append(6)\n",
    "    \n",
    "data['num_child_category'] = arr_child"
   ]
  },
  {
   "cell_type": "code",
   "execution_count": null,
   "metadata": {},
   "outputs": [],
   "source": []
  },
  {
   "cell_type": "code",
   "execution_count": null,
   "metadata": {},
   "outputs": [],
   "source": []
  },
  {
   "cell_type": "code",
   "execution_count": null,
   "metadata": {},
   "outputs": [],
   "source": []
  },
  {
   "cell_type": "code",
   "execution_count": null,
   "metadata": {},
   "outputs": [],
   "source": []
  },
  {
   "cell_type": "code",
   "execution_count": null,
   "metadata": {},
   "outputs": [],
   "source": []
  },
  {
   "cell_type": "markdown",
   "metadata": {
    "colab_type": "text",
    "id": "2ZqW7RLb7BFe"
   },
   "source": [
    "## Data Transformations"
   ]
  },
  {
   "cell_type": "code",
   "execution_count": null,
   "metadata": {
    "colab": {},
    "colab_type": "code",
    "id": "tXK1OWSf7zJO"
   },
   "outputs": [],
   "source": [
    "#TODO: Do train test split on cleaned data here"
   ]
  },
  {
   "cell_type": "code",
   "execution_count": null,
   "metadata": {
    "colab": {},
    "colab_type": "code",
    "id": "fz9caEJt9cDO"
   },
   "outputs": [],
   "source": [
    "from sklearn.model_selection import train_test_split\n",
    "\n",
    "train, test = train_test_split(data, test_size=0.20, random_state=42)\n",
    "print(len(train))\n",
    "print(len(val))"
   ]
  },
  {
   "cell_type": "markdown",
   "metadata": {
    "colab_type": "text",
    "id": "-Fb4GF7v9hj9"
   },
   "source": [
    "## Exploratory Data Analysis"
   ]
  },
  {
   "cell_type": "code",
   "execution_count": null,
   "metadata": {
    "colab": {},
    "colab_type": "code",
    "id": "LtBzEB2J9o0u"
   },
   "outputs": [],
   "source": [
    "## do some pca crap, visualizations etc"
   ]
  },
  {
   "cell_type": "markdown",
   "metadata": {
    "colab_type": "text",
    "id": "YOlHTkkN7TbZ"
   },
   "source": [
    "## Modeling"
   ]
  },
  {
   "cell_type": "code",
   "execution_count": null,
   "metadata": {
    "colab": {},
    "colab_type": "code",
    "id": "V6E1HvIk7xpt"
   },
   "outputs": [],
   "source": [
    "# All in loop\n",
    "\n",
    "for col in data:\n",
    "    \n",
    "    if (col == 'wife_age' or col == 'num_child'):\n",
    "        continue\n",
    "    \n",
    "    oh_enc = OneHotEncoder(categories=\"auto\")\n",
    "    oh_enc.fit(train[[col]])\n",
    "    oh_enc.get_feature_names()\n",
    "    X_train = oh_enc.transform(train[[col]]).todense()\n",
    "    Y_train = train[\"contraceptive\"]\n",
    "\n",
    "    from sklearn.model_selection import cross_val_score\n",
    "    from sklearn.linear_model import LogisticRegression\n",
    "\n",
    "    model = LogisticRegression(solver='lbfgs', multi_class='auto', C=1e5)\n",
    "    model.fit(X_train, Y_train)\n",
    "    \n",
    "    X_test = oh_enc.transform(test[[col]]).todense()\n",
    "    Y_test = test['contraceptive']\n",
    "    \n",
    "    print(col, model.score(X_test, Y_test))"
   ]
  },
  {
   "cell_type": "code",
   "execution_count": null,
   "metadata": {},
   "outputs": [],
   "source": [
    "oh_enc = OneHotEncoder(categories=\"auto\")\n",
    "cols = ['wife_education', 'husband_education', 'wife_religion', 'husband_occupation']\n",
    "\n",
    "oh_enc.fit(train[cols])\n",
    "X_train = oh_enc.transform(train[cols]).todense()\n",
    "Y_train = train[\"contraceptive\"]\n",
    "print(X_train)\n",
    "\n",
    "from sklearn.model_selection import cross_val_score\n",
    "from sklearn.linear_model import LogisticRegression\n",
    "\n",
    "model = LogisticRegression(solver='lbfgs', multi_class='auto', C=1e5)\n",
    "model.fit(X_train, Y_train)\n",
    "\n",
    "X_test = oh_enc.transform(test[cols]).todense()\n",
    "Y_test = test['contraceptive']\n",
    "\n",
    "print(model.score(X_train, Y_train))"
   ]
  },
  {
   "cell_type": "code",
   "execution_count": null,
   "metadata": {},
   "outputs": [],
   "source": [
    "cols = ['wife_education', 'husband_education', 'husband_occupation', 'age_category', 'num_child_category']\n",
    "\n",
    "oh_enc.fit(train[cols])\n",
    "X_train = oh_enc.transform(train[cols]).todense()\n",
    "Y_train = train[\"contraceptive\"]\n",
    "print(X_train)\n",
    "\n",
    "from sklearn.model_selection import cross_val_score\n",
    "from sklearn.linear_model import LogisticRegression\n",
    "\n",
    "model = LogisticRegression(solver='lbfgs', multi_class='auto', C=1e5)\n",
    "model.fit(X_train, Y_train)\n",
    "\n",
    "X_test = oh_enc.transform(test[cols]).todense()\n",
    "Y_test = test['contraceptive']\n",
    "\n",
    "print(model.score(X_test, Y_test))"
   ]
  },
  {
   "cell_type": "code",
   "execution_count": null,
   "metadata": {},
   "outputs": [],
   "source": []
  },
  {
   "cell_type": "markdown",
   "metadata": {
    "colab_type": "text",
    "id": "6MZO3FNp7bKN"
   },
   "source": [
    "## Model Validation"
   ]
  },
  {
   "cell_type": "code",
   "execution_count": null,
   "metadata": {
    "colab": {},
    "colab_type": "code",
    "id": "wI4tnqxK70aE"
   },
   "outputs": [],
   "source": [
    "#sklearn cvscore "
   ]
  },
  {
   "cell_type": "markdown",
   "metadata": {
    "colab_type": "text",
    "id": "lvz9NObh7f_V"
   },
   "source": [
    "## Use Model to make Predictions"
   ]
  },
  {
   "cell_type": "code",
   "execution_count": null,
   "metadata": {
    "colab": {},
    "colab_type": "code",
    "id": "ZZfkGrnu702E"
   },
   "outputs": [],
   "source": [
    "# Predict"
   ]
  },
  {
   "cell_type": "markdown",
   "metadata": {
    "colab_type": "text",
    "id": "h6-nWS7_7jw3"
   },
   "source": [
    "## Results"
   ]
  }
 ],
 "metadata": {
  "colab": {
   "collapsed_sections": [],
   "name": "Data 100 Final Project.ipynb",
   "provenance": []
  },
  "kernelspec": {
   "display_name": "Python 3",
   "language": "python",
   "name": "python3"
  },
  "language_info": {
   "codemirror_mode": {
    "name": "ipython",
    "version": 3
   },
   "file_extension": ".py",
   "mimetype": "text/x-python",
   "name": "python",
   "nbconvert_exporter": "python",
   "pygments_lexer": "ipython3",
   "version": "3.6.5"
  }
 },
 "nbformat": 4,
 "nbformat_minor": 1
}
